{
 "cells": [
  {
   "cell_type": "markdown",
   "id": "06d05af6-2e69-4a30-9c43-757509efb296",
   "metadata": {},
   "source": [
    "#### Import libraries and packages"
   ]
  },
  {
   "cell_type": "code",
   "execution_count": null,
   "id": "4872cba3-2fd7-443d-a518-a62d4ccaf47d",
   "metadata": {},
   "outputs": [],
   "source": [
    "import psycopg2\n",
    "import pandas as pd"
   ]
  },
  {
   "cell_type": "markdown",
   "id": "600ff863-c412-49df-b581-a878d9b3c98b",
   "metadata": {},
   "source": [
    "#### Find computer name and IP address"
   ]
  },
  {
   "cell_type": "code",
   "execution_count": null,
   "id": "79eadbb2-0944-4dc5-8456-80b4ed6a5287",
   "metadata": {},
   "outputs": [],
   "source": [
    "import socket   \n",
    "hostname = socket.gethostname()   \n",
    "IPAddr = socket.gethostbyname(hostname)   \n",
    "print(\"Your computer name is: \" + hostname)   \n",
    "print(\"Your computer IP address is: \" + IPAddr)  "
   ]
  },
  {
   "cell_type": "markdown",
   "id": "fd207bd7-b36a-4fba-aae2-6bfe203b9b44",
   "metadata": {},
   "source": [
    "#### Set connection with postgres database"
   ]
  },
  {
   "cell_type": "code",
   "execution_count": null,
   "id": "b06b1d25-bb32-4100-9909-f2c01052d998",
   "metadata": {},
   "outputs": [],
   "source": [
    "host = 'localhost'\n",
    "dbname = 'postgres'\n",
    "user = 'postgres'\n",
    "pwd = 'lauz22'\n",
    "port = 5432\n",
    "sslmode = 'require'"
   ]
  },
  {
   "cell_type": "code",
   "execution_count": null,
   "id": "fcdae629-46cb-4848-ac39-7a73eb05c574",
   "metadata": {},
   "outputs": [],
   "source": [
    "conn = psycopg2.connect(\"host='{}' port={} dbname='{}' user={} password={}\".format(host, port, dbname, user, pwd))\n",
    "cursor = conn.cursor()"
   ]
  },
  {
   "cell_type": "markdown",
   "id": "21252742-5fed-4561-9654-41a04985015c",
   "metadata": {
    "tags": []
   },
   "source": [
    "#### Create table"
   ]
  },
  {
   "cell_type": "code",
   "execution_count": null,
   "id": "59513cf7-6ef0-4bdd-bfe7-dadc189e068f",
   "metadata": {},
   "outputs": [],
   "source": [
    "# table = 'tests2'\n",
    "table = 'issue_db'"
   ]
  },
  {
   "cell_type": "code",
   "execution_count": null,
   "id": "7fefc1a1-4c25-4080-b262-9c9751dda3dd",
   "metadata": {},
   "outputs": [],
   "source": [
    "csv_path = \"C:/Users/Public/Documents/issue_db5.csv\""
   ]
  },
  {
   "cell_type": "code",
   "execution_count": null,
   "id": "0c20c100-141c-42c2-929a-7bb1ff5e4f5b",
   "metadata": {},
   "outputs": [],
   "source": [
    "# Drop existing table if it exists\n",
    "sql = f\"DROP TABLE IF EXISTS {table};\""
   ]
  },
  {
   "cell_type": "code",
   "execution_count": null,
   "id": "c50a321c-eebc-4b72-800d-ce81252c2e11",
   "metadata": {},
   "outputs": [],
   "source": [
    "# Create the table from scratch\n",
    "sql += f'''CREATE TABLE {table} (\n",
    "issue_id SERIAL PRIMARY KEY,\n",
    "user_name VARCHAR(20),\n",
    "user_id VARCHAR(20),\n",
    "timestamp VARCHAR(20),\n",
    "latitude FLOAT(4),\n",
    "longitude FLOAT(4),\n",
    "room VARCHAR(20),\n",
    "category VARCHAR(20),\n",
    "title VARCHAR(50),\n",
    "description VARCHAR(256),\n",
    "solution VARCHAR(256),\n",
    "urgency VARCHAR(20),\n",
    "difficulty VARCHAR(20),\n",
    "status VARCHAR(20),\n",
    "upvotes INT,\n",
    "has_upvoted BOOL\n",
    ");'''"
   ]
  },
  {
   "cell_type": "code",
   "execution_count": null,
   "id": "17957473-e3c7-4ef4-a96c-20821a931e89",
   "metadata": {},
   "outputs": [],
   "source": [
    "# Populate table from CSV file contents\n",
    "sql += f\"COPY {table} FROM '{csv_path}' WITH (FORMAT CSV, HEADER, ENCODING 'UTF8');\""
   ]
  },
  {
   "cell_type": "code",
   "execution_count": null,
   "id": "b9a5c27b-b18e-4198-8e8c-edb073b290bc",
   "metadata": {},
   "outputs": [],
   "source": [
    "# Update id sequence number to sync it again after insertion\n",
    "sql += f'''SELECT SETVAL('public.\"{table}_issue_id_seq\"', COALESCE(MAX(issue_id), 1)) FROM {table};'''"
   ]
  },
  {
   "cell_type": "code",
   "execution_count": null,
   "id": "5108051c-435e-4e70-bf11-52c419d66596",
   "metadata": {},
   "outputs": [],
   "source": [
    "# Execute and commit SQL code\n",
    "cursor.execute(sql)\n",
    "conn.commit()"
   ]
  },
  {
   "cell_type": "markdown",
   "id": "ab6180fa-c682-47ee-9e8c-8af23027b369",
   "metadata": {
    "tags": []
   },
   "source": [
    "#### Try simple query on database"
   ]
  },
  {
   "cell_type": "code",
   "execution_count": null,
   "id": "dca52583-f727-47aa-9c88-7e36d53e8e71",
   "metadata": {},
   "outputs": [],
   "source": [
    "sql = f\"SELECT * from {table};\"\n",
    "df = pd.read_sql_query(sql, conn)\n",
    "df.head()"
   ]
  }
 ],
 "metadata": {
  "kernelspec": {
   "display_name": "Python 3 (ipykernel)",
   "language": "python",
   "name": "python3"
  },
  "language_info": {
   "codemirror_mode": {
    "name": "ipython",
    "version": 3
   },
   "file_extension": ".py",
   "mimetype": "text/x-python",
   "name": "python",
   "nbconvert_exporter": "python",
   "pygments_lexer": "ipython3",
   "version": "3.9.7"
  }
 },
 "nbformat": 4,
 "nbformat_minor": 5
}
